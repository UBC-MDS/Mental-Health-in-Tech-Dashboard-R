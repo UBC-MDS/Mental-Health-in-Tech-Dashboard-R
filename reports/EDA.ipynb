{
 "cells": [
  {
   "cell_type": "code",
   "execution_count": 1,
   "metadata": {},
   "outputs": [],
   "source": [
    "import pandas as pd"
   ]
  },
  {
   "cell_type": "code",
   "execution_count": 2,
   "metadata": {},
   "outputs": [
    {
     "data": {
      "text/html": [
       "<div>\n",
       "<style scoped>\n",
       "    .dataframe tbody tr th:only-of-type {\n",
       "        vertical-align: middle;\n",
       "    }\n",
       "\n",
       "    .dataframe tbody tr th {\n",
       "        vertical-align: top;\n",
       "    }\n",
       "\n",
       "    .dataframe thead th {\n",
       "        text-align: right;\n",
       "    }\n",
       "</style>\n",
       "<table border=\"1\" class=\"dataframe\">\n",
       "  <thead>\n",
       "    <tr style=\"text-align: right;\">\n",
       "      <th></th>\n",
       "      <th>self_employed</th>\n",
       "      <th>num_employees</th>\n",
       "      <th>tech_org</th>\n",
       "      <th>mental_health_benefits_healthcare</th>\n",
       "      <th>mental_health_resources</th>\n",
       "      <th>mental_health_leave</th>\n",
       "      <th>mental_disorder_discuss</th>\n",
       "      <th>health_disorder_discuss</th>\n",
       "      <th>discuss_coworker</th>\n",
       "      <th>discuss_supervisor</th>\n",
       "      <th>...</th>\n",
       "      <th>country</th>\n",
       "      <th>is_remote</th>\n",
       "      <th>tech_role</th>\n",
       "      <th>mental_health_benefits_employer</th>\n",
       "      <th>formal_discuss</th>\n",
       "      <th>anonymity</th>\n",
       "      <th>mental_vs_physical</th>\n",
       "      <th>medical_coverage</th>\n",
       "      <th>career_effect</th>\n",
       "      <th>family_history</th>\n",
       "    </tr>\n",
       "  </thead>\n",
       "  <tbody>\n",
       "    <tr>\n",
       "      <th>0</th>\n",
       "      <td>0</td>\n",
       "      <td>26-100</td>\n",
       "      <td>1.0</td>\n",
       "      <td>Not eligible for coverage / N/A</td>\n",
       "      <td>No</td>\n",
       "      <td>Very easy</td>\n",
       "      <td>No</td>\n",
       "      <td>No</td>\n",
       "      <td>Maybe</td>\n",
       "      <td>Yes</td>\n",
       "      <td>...</td>\n",
       "      <td>United Kingdom</td>\n",
       "      <td>Sometimes</td>\n",
       "      <td>NaN</td>\n",
       "      <td>NaN</td>\n",
       "      <td>No</td>\n",
       "      <td>I don't know</td>\n",
       "      <td>I don't know</td>\n",
       "      <td>NaN</td>\n",
       "      <td>Maybe</td>\n",
       "      <td>No</td>\n",
       "    </tr>\n",
       "    <tr>\n",
       "      <th>1</th>\n",
       "      <td>0</td>\n",
       "      <td>6-25</td>\n",
       "      <td>1.0</td>\n",
       "      <td>No</td>\n",
       "      <td>Yes</td>\n",
       "      <td>Somewhat easy</td>\n",
       "      <td>No</td>\n",
       "      <td>No</td>\n",
       "      <td>Maybe</td>\n",
       "      <td>Yes</td>\n",
       "      <td>...</td>\n",
       "      <td>United States of America</td>\n",
       "      <td>Never</td>\n",
       "      <td>NaN</td>\n",
       "      <td>Yes</td>\n",
       "      <td>Yes</td>\n",
       "      <td>Yes</td>\n",
       "      <td>Yes</td>\n",
       "      <td>NaN</td>\n",
       "      <td>No, I don't think it would</td>\n",
       "      <td>Yes</td>\n",
       "    </tr>\n",
       "    <tr>\n",
       "      <th>2</th>\n",
       "      <td>0</td>\n",
       "      <td>6-25</td>\n",
       "      <td>1.0</td>\n",
       "      <td>No</td>\n",
       "      <td>No</td>\n",
       "      <td>Neither easy nor difficult</td>\n",
       "      <td>Maybe</td>\n",
       "      <td>No</td>\n",
       "      <td>Maybe</td>\n",
       "      <td>Maybe</td>\n",
       "      <td>...</td>\n",
       "      <td>United Kingdom</td>\n",
       "      <td>Always</td>\n",
       "      <td>NaN</td>\n",
       "      <td>NaN</td>\n",
       "      <td>No</td>\n",
       "      <td>I don't know</td>\n",
       "      <td>I don't know</td>\n",
       "      <td>NaN</td>\n",
       "      <td>Maybe</td>\n",
       "      <td>No</td>\n",
       "    </tr>\n",
       "    <tr>\n",
       "      <th>3</th>\n",
       "      <td>1</td>\n",
       "      <td>NaN</td>\n",
       "      <td>NaN</td>\n",
       "      <td>NaN</td>\n",
       "      <td>NaN</td>\n",
       "      <td>NaN</td>\n",
       "      <td>NaN</td>\n",
       "      <td>NaN</td>\n",
       "      <td>NaN</td>\n",
       "      <td>NaN</td>\n",
       "      <td>...</td>\n",
       "      <td>United Kingdom</td>\n",
       "      <td>Sometimes</td>\n",
       "      <td>NaN</td>\n",
       "      <td>NaN</td>\n",
       "      <td>NaN</td>\n",
       "      <td>NaN</td>\n",
       "      <td>NaN</td>\n",
       "      <td>1.0</td>\n",
       "      <td>Yes, I think it would</td>\n",
       "      <td>No</td>\n",
       "    </tr>\n",
       "    <tr>\n",
       "      <th>4</th>\n",
       "      <td>0</td>\n",
       "      <td>6-25</td>\n",
       "      <td>0.0</td>\n",
       "      <td>Yes</td>\n",
       "      <td>No</td>\n",
       "      <td>Neither easy nor difficult</td>\n",
       "      <td>Yes</td>\n",
       "      <td>Maybe</td>\n",
       "      <td>Maybe</td>\n",
       "      <td>No</td>\n",
       "      <td>...</td>\n",
       "      <td>United States of America</td>\n",
       "      <td>Sometimes</td>\n",
       "      <td>1.0</td>\n",
       "      <td>Yes</td>\n",
       "      <td>No</td>\n",
       "      <td>No</td>\n",
       "      <td>No</td>\n",
       "      <td>NaN</td>\n",
       "      <td>Yes, I think it would</td>\n",
       "      <td>Yes</td>\n",
       "    </tr>\n",
       "  </tbody>\n",
       "</table>\n",
       "<p>5 rows × 30 columns</p>\n",
       "</div>"
      ],
      "text/plain": [
       "   self_employed num_employees  tech_org mental_health_benefits_healthcare  \\\n",
       "0              0        26-100       1.0   Not eligible for coverage / N/A   \n",
       "1              0          6-25       1.0                                No   \n",
       "2              0          6-25       1.0                                No   \n",
       "3              1           NaN       NaN                               NaN   \n",
       "4              0          6-25       0.0                               Yes   \n",
       "\n",
       "  mental_health_resources         mental_health_leave mental_disorder_discuss  \\\n",
       "0                      No                   Very easy                      No   \n",
       "1                     Yes               Somewhat easy                      No   \n",
       "2                      No  Neither easy nor difficult                   Maybe   \n",
       "3                     NaN                         NaN                     NaN   \n",
       "4                      No  Neither easy nor difficult                     Yes   \n",
       "\n",
       "  health_disorder_discuss discuss_coworker discuss_supervisor  ...  \\\n",
       "0                      No            Maybe                Yes  ...   \n",
       "1                      No            Maybe                Yes  ...   \n",
       "2                      No            Maybe              Maybe  ...   \n",
       "3                     NaN              NaN                NaN  ...   \n",
       "4                   Maybe            Maybe                 No  ...   \n",
       "\n",
       "                    country  is_remote tech_role  \\\n",
       "0            United Kingdom  Sometimes       NaN   \n",
       "1  United States of America      Never       NaN   \n",
       "2            United Kingdom     Always       NaN   \n",
       "3            United Kingdom  Sometimes       NaN   \n",
       "4  United States of America  Sometimes       1.0   \n",
       "\n",
       "  mental_health_benefits_employer formal_discuss     anonymity  \\\n",
       "0                             NaN             No  I don't know   \n",
       "1                             Yes            Yes           Yes   \n",
       "2                             NaN             No  I don't know   \n",
       "3                             NaN            NaN           NaN   \n",
       "4                             Yes             No            No   \n",
       "\n",
       "  mental_vs_physical medical_coverage               career_effect  \\\n",
       "0       I don't know              NaN                       Maybe   \n",
       "1                Yes              NaN  No, I don't think it would   \n",
       "2       I don't know              NaN                       Maybe   \n",
       "3                NaN              1.0       Yes, I think it would   \n",
       "4                 No              NaN       Yes, I think it would   \n",
       "\n",
       "  family_history  \n",
       "0             No  \n",
       "1            Yes  \n",
       "2             No  \n",
       "3             No  \n",
       "4            Yes  \n",
       "\n",
       "[5 rows x 30 columns]"
      ]
     },
     "execution_count": 2,
     "metadata": {},
     "output_type": "execute_result"
    }
   ],
   "source": [
    "clean_data = pd.read_csv('../data/processed/mental_health_clean.csv')\n",
    "clean_data.head()"
   ]
  },
  {
   "cell_type": "code",
   "execution_count": 3,
   "metadata": {},
   "outputs": [
    {
     "data": {
      "application/vnd.jupyter.widget-view+json": {
       "model_id": "04b722793f2e4ff0bf644de2c1731885",
       "version_major": 2,
       "version_minor": 0
      },
      "text/plain": [
       "HBox(children=(FloatProgress(value=0.0, description='Summarize dataset', max=44.0, style=ProgressStyle(descrip…"
      ]
     },
     "metadata": {},
     "output_type": "display_data"
    },
    {
     "name": "stderr",
     "output_type": "stream",
     "text": [
      "/home/mike/miniconda3/lib/python3.8/site-packages/pandas_profiling/model/correlations.py:101: UserWarning: There was an attempt to calculate the cramers correlation, but this failed.\n",
      "To hide this warning, disable the calculation\n",
      "(using `df.profile_report(correlations={\"cramers\": {\"calculate\": False}})`\n",
      "If this is problematic for your use case, please report this as an issue:\n",
      "https://github.com/pandas-profiling/pandas-profiling/issues\n",
      "(include the error message: 'No data; `observed` has size 0.')\n",
      "  warnings.warn(\n"
     ]
    },
    {
     "name": "stdout",
     "output_type": "stream",
     "text": [
      "\n"
     ]
    },
    {
     "data": {
      "application/vnd.jupyter.widget-view+json": {
       "model_id": "403221b49c994010b99ff6e8492cf808",
       "version_major": 2,
       "version_minor": 0
      },
      "text/plain": [
       "HBox(children=(FloatProgress(value=0.0, description='Generate report structure', max=1.0, style=ProgressStyle(…"
      ]
     },
     "metadata": {},
     "output_type": "display_data"
    },
    {
     "name": "stdout",
     "output_type": "stream",
     "text": [
      "\n"
     ]
    },
    {
     "data": {
      "application/vnd.jupyter.widget-view+json": {
       "model_id": "6125ebee6f6e43719fe55dfcba07c32b",
       "version_major": 2,
       "version_minor": 0
      },
      "text/plain": [
       "HBox(children=(FloatProgress(value=0.0, description='Render HTML', max=1.0, style=ProgressStyle(description_wi…"
      ]
     },
     "metadata": {},
     "output_type": "display_data"
    },
    {
     "name": "stdout",
     "output_type": "stream",
     "text": [
      "\n"
     ]
    },
    {
     "data": {
      "application/vnd.jupyter.widget-view+json": {
       "model_id": "b31a068a920343b488311785828bfb8d",
       "version_major": 2,
       "version_minor": 0
      },
      "text/plain": [
       "HBox(children=(FloatProgress(value=0.0, description='Export report to file', max=1.0, style=ProgressStyle(desc…"
      ]
     },
     "metadata": {},
     "output_type": "display_data"
    },
    {
     "name": "stdout",
     "output_type": "stream",
     "text": [
      "\n"
     ]
    }
   ],
   "source": [
    "from pandas_profiling import ProfileReport\n",
    "prof = ProfileReport(clean_data)\n",
    "prof.to_file(output_file='Pandas_EDA.html')"
   ]
  }
 ],
 "metadata": {
  "kernelspec": {
   "display_name": "Python [conda env:root] *",
   "language": "python",
   "name": "conda-root-py"
  },
  "language_info": {
   "codemirror_mode": {
    "name": "ipython",
    "version": 3
   },
   "file_extension": ".py",
   "mimetype": "text/x-python",
   "name": "python",
   "nbconvert_exporter": "python",
   "pygments_lexer": "ipython3",
   "version": "3.8.3"
  }
 },
 "nbformat": 4,
 "nbformat_minor": 4
}
